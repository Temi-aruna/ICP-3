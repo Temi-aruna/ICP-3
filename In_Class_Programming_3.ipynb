{
  "nbformat": 4,
  "nbformat_minor": 0,
  "metadata": {
    "colab": {
      "provenance": []
    },
    "kernelspec": {
      "name": "python3",
      "display_name": "Python 3"
    },
    "language_info": {
      "name": "python"
    }
  },
  "cells": [
    {
      "cell_type": "code",
      "execution_count": 54,
      "metadata": {
        "colab": {
          "base_uri": "https://localhost:8080/"
        },
        "id": "X8m3sPxTH3Y_",
        "outputId": "35124de9-f0fa-4be6-8a44-fea5c2386c47"
      },
      "outputs": [
        {
          "output_type": "stream",
          "name": "stdout",
          "text": [
            "Question 1: \n",
            "Array A = [ 6  4  6 11  5  9  6  1 10 19  5 10  2 13  1]\n",
            "Array A reshaped as array B to be a 3 by 5: \n",
            "[[ 6  4  6 11  5]\n",
            " [ 9  6  1 10 19]\n",
            " [ 5 10  2 13  1]]\n",
            "Shape of array B = (3, 5)\n",
            "\n",
            "New array B with maximum values of each column replaced with 0: \n",
            "[[ 6  4  0 11  5]\n",
            " [ 0  6  1 10  0]\n",
            " [ 5  0  2  0  1]]\n"
          ]
        }
      ],
      "source": [
        "import numpy as np\n",
        "#\n",
        "print(\"Question 1: \")\n",
        "a = np.random.randint(1, 20, 15) #declare array with random values from 1 to 20 of size 15\n",
        "print(f\"Array A = {a}\")\n",
        "b = a.reshape(3, 5) #reshape array A\n",
        "print(\"Array A reshaped as array B to be a 3 by 5: \")\n",
        "print(b)\n",
        "print(f\"Shape of array B = {b.shape}\") #print shape of resized Array (b)\n",
        "\n",
        "print(\"\\nNew array B with maximum values of each column replaced with 0: \")\n",
        "b[b == b.max(axis=0)] = 0 #set the maximum values of every column with 0\n",
        "print(b)"
      ]
    },
    {
      "cell_type": "code",
      "source": [
        "import numpy as np\n",
        "#\n",
        "print(\"Question 2: \")\n",
        "c = np.array([[1, 2, 3, 4], [5, 6, 7, 8], [9, 10, 11, 12]], np.int32) #force the data type to be 4-byte integer elements\n",
        "print(c)\n",
        "print(f\"Shape of array c = {c.shape}\") #display the shape\n",
        "print(f\"Datatype of array c = {c.dtype}\") #display the data type"
      ],
      "metadata": {
        "colab": {
          "base_uri": "https://localhost:8080/"
        },
        "id": "dhhfrO3ehqbT",
        "outputId": "39c6c592-d2bf-445b-e91c-2182e86b493b"
      },
      "execution_count": 51,
      "outputs": [
        {
          "output_type": "stream",
          "name": "stdout",
          "text": [
            "Question 2: \n",
            "[[ 1  2  3  4]\n",
            " [ 5  6  7  8]\n",
            " [ 9 10 11 12]]\n",
            "Shape of array c = (3, 4)\n",
            "Datatype of array c = int32\n"
          ]
        }
      ]
    },
    {
      "cell_type": "code",
      "source": [
        "import numpy as np\n",
        "#\n",
        "print(\"Question 3: \")\n",
        "given_array = np.array([[0, 1, 2], [3, 4, 5]]) #create given array\n",
        "print(f\"Given array: \")\n",
        "print(given_array)\n",
        "sum_diagonal = given_array.trace()\n",
        "print(f\"The sum of the diagonal elements is {sum_diagonal}\") #print the sum of the diagonal elements using .trace() function"
      ],
      "metadata": {
        "colab": {
          "base_uri": "https://localhost:8080/"
        },
        "id": "mPzkGp5Zhx6c",
        "outputId": "68ec470f-f96d-4716-810c-2b38e5377a05"
      },
      "execution_count": 55,
      "outputs": [
        {
          "output_type": "stream",
          "name": "stdout",
          "text": [
            "Question 3: \n",
            "Given array: \n",
            "[[0 1 2]\n",
            " [3 4 5]]\n",
            "The sum of the diagonal elements is 4\n"
          ]
        }
      ]
    },
    {
      "cell_type": "code",
      "source": [
        "import numpy as np\n",
        "#\n",
        "print(\"Question 4: \")\n",
        "print(\"Arrays of Odds and Evens: \")\n",
        "print(np.arange(10, 71, 1)) #create evens and odds between 10 and 70\n",
        "\n",
        "print(\"\\nElement-wise operations: \")\n",
        "print(\"Array 1: \")\n",
        "array_1 = np.array([[5, 20, 3, 9],\n",
        "                    [14, 2, 19, 8],\n",
        "                    [10, 7, 13, 25]])\n",
        "print(array_1)\n",
        "print(\"\\nArray 2: \")\n",
        "array_2 = np.array([[12, 11, 19, 4],\n",
        "                    [9, 5, 2, 17],\n",
        "                    [18, 15, 14, 13]])\n",
        "print(array_2)\n",
        "\n",
        "#perform multiple element-wise operations using two arrays of same size\n",
        "print(f\"\\nArray 1 + Array 2 = \")\n",
        "print(array_1 + array_2)\n",
        "print(\"\\nArray 1 * Array 2 = \")\n",
        "print(array_1 * array_2)\n",
        "print(\"\\nArray 1 - Array 2 = \")\n",
        "print(array_1 - array_2)\n",
        "\n",
        "print(\"\\nSort an array by row and column in ascending order: \")\n",
        "given_array = np.array([[5.54, 3.38, 7.99],\n",
        "                        [3.54, 4.38, 6.99],\n",
        "                        [1.54, 2.39, 9.29]]) #\n",
        "print(\"Given array: \")\n",
        "print(given_array)\n",
        "\n",
        "print(\"\\nSorted array in ascending order: \")\n",
        "sorted_array = np.sort(given_array, axis=0) #Utilize the .sort function, sorting from the first axis\n",
        "print(sorted_array)"
      ],
      "metadata": {
        "colab": {
          "base_uri": "https://localhost:8080/"
        },
        "id": "V1JGlSenh-Kc",
        "outputId": "7c47eca4-3e52-4453-e15f-c34ed4f49182"
      },
      "execution_count": 56,
      "outputs": [
        {
          "output_type": "stream",
          "name": "stdout",
          "text": [
            "Question 4: \n",
            "Arrays of Odds and Evens: \n",
            "[10 11 12 13 14 15 16 17 18 19 20 21 22 23 24 25 26 27 28 29 30 31 32 33\n",
            " 34 35 36 37 38 39 40 41 42 43 44 45 46 47 48 49 50 51 52 53 54 55 56 57\n",
            " 58 59 60 61 62 63 64 65 66 67 68 69 70]\n",
            "\n",
            "Element-wise operations: \n",
            "Array 1: \n",
            "[[ 5 20  3  9]\n",
            " [14  2 19  8]\n",
            " [10  7 13 25]]\n",
            "\n",
            "Array 2: \n",
            "[[12 11 19  4]\n",
            " [ 9  5  2 17]\n",
            " [18 15 14 13]]\n",
            "\n",
            "Array 1 + Array 2 = \n",
            "[[17 31 22 13]\n",
            " [23  7 21 25]\n",
            " [28 22 27 38]]\n",
            "\n",
            "Array 1 * Array 2 = \n",
            "[[ 60 220  57  36]\n",
            " [126  10  38 136]\n",
            " [180 105 182 325]]\n",
            "\n",
            "Array 1 - Array 2 = \n",
            "[[ -7   9 -16   5]\n",
            " [  5  -3  17  -9]\n",
            " [ -8  -8  -1  12]]\n",
            "\n",
            "Sort an array by row and column in ascending order: \n",
            "Given array: \n",
            "[[5.54 3.38 7.99]\n",
            " [3.54 4.38 6.99]\n",
            " [1.54 2.39 9.29]]\n",
            "\n",
            "Sorted array in ascending order: \n",
            "[[1.54 2.39 6.99]\n",
            " [3.54 3.38 7.99]\n",
            " [5.54 4.38 9.29]]\n"
          ]
        }
      ]
    },
    {
      "cell_type": "code",
      "source": [
        "import numpy as np\n",
        "\n",
        "#\n",
        "print(\"Question 5: \")\n",
        "print(\"Finding false values: \")\n",
        "\n",
        "nan = 6\n",
        "print(\"\\nGiven Array: \")\n",
        "given_array = np.array([[4, 2, np.nan, 1],\n",
        "                        [11, 12, 14, 9],\n",
        "                        [5, np.nan, 1, np.nan]])\n",
        "\n",
        "print(given_array)\n",
        "print(\"\\nFinding the missing data of the given array: \")\n",
        "print(np.isnan(given_array))"
      ],
      "metadata": {
        "colab": {
          "base_uri": "https://localhost:8080/"
        },
        "id": "tqwXuu3zsC48",
        "outputId": "eea7a822-a256-4256-d6ba-88945097e54b"
      },
      "execution_count": 57,
      "outputs": [
        {
          "output_type": "stream",
          "name": "stdout",
          "text": [
            "Question 5: \n",
            "Finding false values: \n",
            "\n",
            "Given Array: \n",
            "[[ 4.  2. nan  1.]\n",
            " [11. 12. 14.  9.]\n",
            " [ 5. nan  1. nan]]\n",
            "\n",
            "Finding the missing data of the given array: \n",
            "[[False False  True False]\n",
            " [False False False False]\n",
            " [False  True False  True]]\n"
          ]
        }
      ]
    }
  ]
}